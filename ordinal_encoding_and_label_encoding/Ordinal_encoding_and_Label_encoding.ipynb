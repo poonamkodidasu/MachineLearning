{
 "cells": [
  {
   "cell_type": "code",
   "execution_count": null,
   "metadata": {},
   "outputs": [],
   "source": []
  },
  {
   "cell_type": "markdown",
   "metadata": {},
   "source": [
    "# Ordinal encoding and Label encoding\n",
    "\n",
    "## Ordinal Encoding:\n",
    "Used to transform categorical variables with ordered levels or labels into numeric representations. \n",
    "\n",
    "Each unique category  is assigned a unique integer value based on its order or rank. \n",
    "\n",
    "The assigned integers preserve the ordinal relationship between the categories. \n",
    "example, if we have categories like \"Low,\" \"Medium,\" and \"High,\" they can be encoded as 0, 1, and 2, respectively. \n",
    "\n",
    "Ordinal encoding is commonly used when there is a natural order or hierarchy among the categories.\n",
    "\n",
    "## Label Encoding:\n",
    "Used to transform categorical variables into numeric representations without considering any specific order or hierarchy. \n",
    "\n",
    "In label encoding, each unique category or label is assigned a unique integer value, starting from 0. \n",
    "\n",
    "The assigned integers do not imply any inherent order or rank. \n",
    "\n",
    "For example, if we have categories like \"Red,\" \"Green,\" and \"Blue,\" they can be encoded as 0, 1, and 2, respectively. \n",
    "\n",
    "Mostly used for target columns or output categorical column.\n",
    "\n",
    "Label encoding is often used when there is no meaningful ordinal relationship among the categories."
   ]
  },
  {
   "cell_type": "code",
   "execution_count": null,
   "metadata": {},
   "outputs": [],
   "source": []
  },
  {
   "cell_type": "code",
   "execution_count": 1,
   "metadata": {},
   "outputs": [
    {
     "name": "stdout",
     "output_type": "stream",
     "text": [
      "Number of categoreies :  [array(['Poor', 'Average', 'Good'], dtype=object), array(['School', 'UG', 'PG'], dtype=object)]\n",
      "X_test transform data set using ordinal encoder :  [[2. 1.]\n",
      " [2. 2.]\n",
      " [0. 0.]\n",
      " [2. 1.]\n",
      " [1. 0.]\n",
      " [1. 0.]\n",
      " [1. 1.]\n",
      " [0. 2.]\n",
      " [0. 2.]\n",
      " [2. 0.]]\n",
      "Number of clsses in label set :  ['No' 'Yes']\n",
      "Y_test transform data set using label encoder  [1 1 0 1 0 0 0 0 0 0]\n"
     ]
    }
   ],
   "source": [
    "import pandas as pd\n",
    "import numpy as np\n",
    "\n",
    "def read_csv_file(file_name):\n",
    "    data = pd.read_csv(file_name)\n",
    "    data = data.iloc[:,[2,3,4]]\n",
    "    return data\n",
    "\n",
    "\n",
    "def ordinal_encoder_and_label_encoder(data):\n",
    "    from sklearn.model_selection import train_test_split\n",
    "    X_train,X_test,Y_train,Y_test = train_test_split(data.iloc[:,2:4],\n",
    "                                                     data.iloc[:,-1],\n",
    "                                                     test_size=0.2,\n",
    "                                                     random_state=2)\n",
    "    \n",
    "    #ordinal encoder:\n",
    "    from sklearn.preprocessing import OrdinalEncoder\n",
    "    \n",
    "    data['education'].value_counts()\n",
    "    cat1 = data['review'].value_counts().index.to_numpy()\n",
    "    cat2 = data['education'].value_counts().index.to_numpy()\n",
    "    \n",
    "    #give categories in which order you want. eg: 0:poor, 1:average, 2:good.\n",
    "    oe = OrdinalEncoder(categories=[['Poor', 'Average','Good'],['School', 'UG', 'PG']]) \n",
    "\n",
    "    #oe = OrdinalEncoder(categories=[cat1,cat2]) #randomly assign the value\n",
    "    #oe  = OrdinalEncoder() #randomly assign the value\n",
    "\n",
    "    # fit the ordinal encoder to the train set, it will learn the parameters\n",
    "    oe.fit(X_train)\n",
    "\n",
    "    # transform train and test sets\n",
    "    X_train_transform = oe.transform(X_train)\n",
    "    X_test_transform = oe.transform(X_test)\n",
    "\n",
    "    print(\"Number of categoreies : \",oe.categories_)\n",
    "    #print(\"X_train transform data set using ordinal encoder : \",X_train_transform)\n",
    "    print(\"X_test transform data set using ordinal encoder : \",X_test_transform)\n",
    "\n",
    "\n",
    "    #label encoder:\n",
    "    from sklearn.preprocessing import LabelEncoder\n",
    "    le = LabelEncoder()\n",
    "    \n",
    "    # fit the label encoder to the train label set, it will learn the parameters\n",
    "    le.fit(Y_train)\n",
    "\n",
    "    # transform train and test label sets\n",
    "    Y_train_transform = le.transform(Y_train)\n",
    "    Y_test_transform = le.transform(Y_test)\n",
    "\n",
    "    print(\"Number of clsses in label set : \",le.classes_)\n",
    "    #print(\"Y_train transform data set using label encoder \",Y_train_transform)\n",
    "    print(\"Y_test transform data set using label encoder \",Y_test_transform)\n",
    "\n",
    "\n",
    "\n",
    "\n",
    "data = pd.read_csv('customer.csv')\n",
    "ordinal_encoder_and_label_encoder(data)"
   ]
  },
  {
   "cell_type": "code",
   "execution_count": null,
   "metadata": {},
   "outputs": [],
   "source": []
  }
 ],
 "metadata": {
  "kernelspec": {
   "display_name": "Python 3",
   "language": "python",
   "name": "python3"
  },
  "language_info": {
   "codemirror_mode": {
    "name": "ipython",
    "version": 3
   },
   "file_extension": ".py",
   "mimetype": "text/x-python",
   "name": "python",
   "nbconvert_exporter": "python",
   "pygments_lexer": "ipython3",
   "version": "3.7.5"
  }
 },
 "nbformat": 4,
 "nbformat_minor": 2
}
